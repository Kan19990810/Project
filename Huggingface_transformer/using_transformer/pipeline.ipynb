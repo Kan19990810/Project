{
 "cells": [
  {
   "cell_type": "code",
   "execution_count": 2,
   "metadata": {},
   "outputs": [
    {
     "name": "stderr",
     "output_type": "stream",
     "text": [
      "No model was supplied, defaulted to distilbert-base-uncased-finetuned-sst-2-english and revision af0f99b (https://huggingface.co/distilbert-base-uncased-finetuned-sst-2-english).\n",
      "Using a pipeline without specifying a model name and revision in production is not recommended.\n"
     ]
    },
    {
     "data": {
      "application/vnd.jupyter.widget-view+json": {
       "model_id": "b707798f062d439d8d08bb7541990b73",
       "version_major": 2,
       "version_minor": 0
      },
      "text/plain": [
       "Downloading model.safetensors:   0%|          | 0.00/268M [00:00<?, ?B/s]"
      ]
     },
     "metadata": {},
     "output_type": "display_data"
    },
    {
     "data": {
      "application/vnd.jupyter.widget-view+json": {
       "model_id": "29d70f3a3ce4443bb1a0ee62dd1fe642",
       "version_major": 2,
       "version_minor": 0
      },
      "text/plain": [
       "Downloading model.safetensors:   0%|          | 0.00/268M [00:00<?, ?B/s]"
      ]
     },
     "metadata": {},
     "output_type": "display_data"
    },
    {
     "ename": "ValueError",
     "evalue": "Could not load model distilbert-base-uncased-finetuned-sst-2-english with any of the following classes: (<class 'transformers.models.auto.modeling_auto.AutoModelForSequenceClassification'>, <class 'transformers.models.distilbert.modeling_distilbert.DistilBertForSequenceClassification'>). See the original errors:\n\nwhile loading with AutoModelForSequenceClassification, an error is thrown:\nTraceback (most recent call last):\n  File \"d:\\Computer\\Anaconda\\envs\\transformer\\lib\\site-packages\\urllib3\\response.py\", line 710, in _error_catcher\n    yield\n  File \"d:\\Computer\\Anaconda\\envs\\transformer\\lib\\site-packages\\urllib3\\response.py\", line 814, in _raw_read\n    data = self._fp_read(amt) if not fp_closed else b\"\"\n  File \"d:\\Computer\\Anaconda\\envs\\transformer\\lib\\site-packages\\urllib3\\response.py\", line 799, in _fp_read\n    return self._fp.read(amt) if amt is not None else self._fp.read()\n  File \"d:\\Computer\\Anaconda\\envs\\transformer\\lib\\http\\client.py\", line 459, in read\n    n = self.readinto(b)\n  File \"d:\\Computer\\Anaconda\\envs\\transformer\\lib\\http\\client.py\", line 503, in readinto\n    n = self.fp.readinto(b)\n  File \"d:\\Computer\\Anaconda\\envs\\transformer\\lib\\socket.py\", line 669, in readinto\n    return self._sock.recv_into(b)\n  File \"d:\\Computer\\Anaconda\\envs\\transformer\\lib\\ssl.py\", line 1241, in recv_into\n    return self.read(nbytes, buffer)\n  File \"d:\\Computer\\Anaconda\\envs\\transformer\\lib\\ssl.py\", line 1099, in read\n    return self._sslobj.read(len, buffer)\nsocket.timeout: The read operation timed out\n\nThe above exception was the direct cause of the following exception:\n\nTraceback (most recent call last):\n  File \"d:\\Computer\\Anaconda\\envs\\transformer\\lib\\site-packages\\requests\\models.py\", line 816, in generate\n    yield from self.raw.stream(chunk_size, decode_content=True)\n  File \"d:\\Computer\\Anaconda\\envs\\transformer\\lib\\site-packages\\urllib3\\response.py\", line 940, in stream\n    data = self.read(amt=amt, decode_content=decode_content)\n  File \"d:\\Computer\\Anaconda\\envs\\transformer\\lib\\site-packages\\urllib3\\response.py\", line 879, in read\n    data = self._raw_read(amt)\n  File \"d:\\Computer\\Anaconda\\envs\\transformer\\lib\\site-packages\\urllib3\\response.py\", line 835, in _raw_read\n    raise IncompleteRead(self._fp_bytes_read, self.length_remaining)\n  File \"d:\\Computer\\Anaconda\\envs\\transformer\\lib\\contextlib.py\", line 131, in __exit__\n    self.gen.throw(type, value, traceback)\n  File \"d:\\Computer\\Anaconda\\envs\\transformer\\lib\\site-packages\\urllib3\\response.py\", line 715, in _error_catcher\n    raise ReadTimeoutError(self._pool, None, \"Read timed out.\") from e  # type: ignore[arg-type]\nurllib3.exceptions.ReadTimeoutError: HTTPSConnectionPool(host='cdn-lfs.huggingface.co', port=443): Read timed out.\n\nDuring handling of the above exception, another exception occurred:\n\nTraceback (most recent call last):\n  File \"d:\\Computer\\Anaconda\\envs\\transformer\\lib\\site-packages\\transformers\\pipelines\\base.py\", line 269, in infer_framework_load_model\n    model = model_class.from_pretrained(model, **kwargs)\n  File \"d:\\Computer\\Anaconda\\envs\\transformer\\lib\\site-packages\\transformers\\models\\auto\\auto_factory.py\", line 563, in from_pretrained\n    return model_class.from_pretrained(\n  File \"d:\\Computer\\Anaconda\\envs\\transformer\\lib\\site-packages\\transformers\\modeling_utils.py\", line 2773, in from_pretrained\n    resolved_archive_file = cached_file(pretrained_model_name_or_path, filename, **cached_file_kwargs)\n  File \"d:\\Computer\\Anaconda\\envs\\transformer\\lib\\site-packages\\transformers\\utils\\hub.py\", line 429, in cached_file\n    resolved_file = hf_hub_download(\n  File \"d:\\Computer\\Anaconda\\envs\\transformer\\lib\\site-packages\\huggingface_hub\\utils\\_validators.py\", line 118, in _inner_fn\n    return fn(*args, **kwargs)\n  File \"d:\\Computer\\Anaconda\\envs\\transformer\\lib\\site-packages\\huggingface_hub\\file_download.py\", line 1364, in hf_hub_download\n    http_get(\n  File \"d:\\Computer\\Anaconda\\envs\\transformer\\lib\\site-packages\\huggingface_hub\\file_download.py\", line 541, in http_get\n    for chunk in r.iter_content(chunk_size=10 * 1024 * 1024):\n  File \"d:\\Computer\\Anaconda\\envs\\transformer\\lib\\site-packages\\requests\\models.py\", line 822, in generate\n    raise ConnectionError(e)\nrequests.exceptions.ConnectionError: HTTPSConnectionPool(host='cdn-lfs.huggingface.co', port=443): Read timed out.\n\nwhile loading with DistilBertForSequenceClassification, an error is thrown:\nTraceback (most recent call last):\n  File \"d:\\Computer\\Anaconda\\envs\\transformer\\lib\\site-packages\\urllib3\\response.py\", line 710, in _error_catcher\n    yield\n  File \"d:\\Computer\\Anaconda\\envs\\transformer\\lib\\site-packages\\urllib3\\response.py\", line 814, in _raw_read\n    data = self._fp_read(amt) if not fp_closed else b\"\"\n  File \"d:\\Computer\\Anaconda\\envs\\transformer\\lib\\site-packages\\urllib3\\response.py\", line 799, in _fp_read\n    return self._fp.read(amt) if amt is not None else self._fp.read()\n  File \"d:\\Computer\\Anaconda\\envs\\transformer\\lib\\http\\client.py\", line 459, in read\n    n = self.readinto(b)\n  File \"d:\\Computer\\Anaconda\\envs\\transformer\\lib\\http\\client.py\", line 503, in readinto\n    n = self.fp.readinto(b)\n  File \"d:\\Computer\\Anaconda\\envs\\transformer\\lib\\socket.py\", line 669, in readinto\n    return self._sock.recv_into(b)\n  File \"d:\\Computer\\Anaconda\\envs\\transformer\\lib\\ssl.py\", line 1241, in recv_into\n    return self.read(nbytes, buffer)\n  File \"d:\\Computer\\Anaconda\\envs\\transformer\\lib\\ssl.py\", line 1099, in read\n    return self._sslobj.read(len, buffer)\nsocket.timeout: The read operation timed out\n\nThe above exception was the direct cause of the following exception:\n\nTraceback (most recent call last):\n  File \"d:\\Computer\\Anaconda\\envs\\transformer\\lib\\site-packages\\requests\\models.py\", line 816, in generate\n    yield from self.raw.stream(chunk_size, decode_content=True)\n  File \"d:\\Computer\\Anaconda\\envs\\transformer\\lib\\site-packages\\urllib3\\response.py\", line 940, in stream\n    data = self.read(amt=amt, decode_content=decode_content)\n  File \"d:\\Computer\\Anaconda\\envs\\transformer\\lib\\site-packages\\urllib3\\response.py\", line 879, in read\n    data = self._raw_read(amt)\n  File \"d:\\Computer\\Anaconda\\envs\\transformer\\lib\\site-packages\\urllib3\\response.py\", line 835, in _raw_read\n    raise IncompleteRead(self._fp_bytes_read, self.length_remaining)\n  File \"d:\\Computer\\Anaconda\\envs\\transformer\\lib\\contextlib.py\", line 131, in __exit__\n    self.gen.throw(type, value, traceback)\n  File \"d:\\Computer\\Anaconda\\envs\\transformer\\lib\\site-packages\\urllib3\\response.py\", line 715, in _error_catcher\n    raise ReadTimeoutError(self._pool, None, \"Read timed out.\") from e  # type: ignore[arg-type]\nurllib3.exceptions.ReadTimeoutError: HTTPSConnectionPool(host='cdn-lfs.huggingface.co', port=443): Read timed out.\n\nDuring handling of the above exception, another exception occurred:\n\nTraceback (most recent call last):\n  File \"d:\\Computer\\Anaconda\\envs\\transformer\\lib\\site-packages\\transformers\\pipelines\\base.py\", line 269, in infer_framework_load_model\n    model = model_class.from_pretrained(model, **kwargs)\n  File \"d:\\Computer\\Anaconda\\envs\\transformer\\lib\\site-packages\\transformers\\modeling_utils.py\", line 2773, in from_pretrained\n    resolved_archive_file = cached_file(pretrained_model_name_or_path, filename, **cached_file_kwargs)\n  File \"d:\\Computer\\Anaconda\\envs\\transformer\\lib\\site-packages\\transformers\\utils\\hub.py\", line 429, in cached_file\n    resolved_file = hf_hub_download(\n  File \"d:\\Computer\\Anaconda\\envs\\transformer\\lib\\site-packages\\huggingface_hub\\utils\\_validators.py\", line 118, in _inner_fn\n    return fn(*args, **kwargs)\n  File \"d:\\Computer\\Anaconda\\envs\\transformer\\lib\\site-packages\\huggingface_hub\\file_download.py\", line 1364, in hf_hub_download\n    http_get(\n  File \"d:\\Computer\\Anaconda\\envs\\transformer\\lib\\site-packages\\huggingface_hub\\file_download.py\", line 541, in http_get\n    for chunk in r.iter_content(chunk_size=10 * 1024 * 1024):\n  File \"d:\\Computer\\Anaconda\\envs\\transformer\\lib\\site-packages\\requests\\models.py\", line 822, in generate\n    raise ConnectionError(e)\nrequests.exceptions.ConnectionError: HTTPSConnectionPool(host='cdn-lfs.huggingface.co', port=443): Read timed out.\n\n\n",
     "output_type": "error",
     "traceback": [
      "\u001b[1;31m---------------------------------------------------------------------------\u001b[0m",
      "\u001b[1;31mValueError\u001b[0m                                Traceback (most recent call last)",
      "\u001b[1;32md:\\File\\Practice\\Huggingface_transformer\\pipeline.ipynb 单元格 1\u001b[0m line \u001b[0;36m3\n\u001b[0;32m      <a href='vscode-notebook-cell:/d%3A/File/Practice/Huggingface_transformer/pipeline.ipynb#W0sZmlsZQ%3D%3D?line=0'>1</a>\u001b[0m \u001b[39mfrom\u001b[39;00m \u001b[39mtransformers\u001b[39;00m \u001b[39mimport\u001b[39;00m pipeline\n\u001b[1;32m----> <a href='vscode-notebook-cell:/d%3A/File/Practice/Huggingface_transformer/pipeline.ipynb#W0sZmlsZQ%3D%3D?line=2'>3</a>\u001b[0m classifier \u001b[39m=\u001b[39m pipeline(\u001b[39m\"\u001b[39;49m\u001b[39msentiment-analysis\u001b[39;49m\u001b[39m\"\u001b[39;49m)\n\u001b[0;32m      <a href='vscode-notebook-cell:/d%3A/File/Practice/Huggingface_transformer/pipeline.ipynb#W0sZmlsZQ%3D%3D?line=4'>5</a>\u001b[0m classifier(\n\u001b[0;32m      <a href='vscode-notebook-cell:/d%3A/File/Practice/Huggingface_transformer/pipeline.ipynb#W0sZmlsZQ%3D%3D?line=5'>6</a>\u001b[0m     [\n\u001b[0;32m      <a href='vscode-notebook-cell:/d%3A/File/Practice/Huggingface_transformer/pipeline.ipynb#W0sZmlsZQ%3D%3D?line=6'>7</a>\u001b[0m         \u001b[39m\"\u001b[39m\u001b[39mI\u001b[39m\u001b[39m'\u001b[39m\u001b[39mve been waiting for a HuggingFace course my whole life.\u001b[39m\u001b[39m\"\u001b[39m,\n\u001b[0;32m      <a href='vscode-notebook-cell:/d%3A/File/Practice/Huggingface_transformer/pipeline.ipynb#W0sZmlsZQ%3D%3D?line=7'>8</a>\u001b[0m         \u001b[39m\"\u001b[39m\u001b[39mI hate this so much!\u001b[39m\u001b[39m\"\u001b[39m,\n\u001b[0;32m      <a href='vscode-notebook-cell:/d%3A/File/Practice/Huggingface_transformer/pipeline.ipynb#W0sZmlsZQ%3D%3D?line=8'>9</a>\u001b[0m     ]\n\u001b[0;32m     <a href='vscode-notebook-cell:/d%3A/File/Practice/Huggingface_transformer/pipeline.ipynb#W0sZmlsZQ%3D%3D?line=9'>10</a>\u001b[0m )\n",
      "File \u001b[1;32md:\\Computer\\Anaconda\\envs\\transformer\\lib\\site-packages\\transformers\\pipelines\\__init__.py:824\u001b[0m, in \u001b[0;36mpipeline\u001b[1;34m(task, model, config, tokenizer, feature_extractor, image_processor, framework, revision, use_fast, token, device, device_map, torch_dtype, trust_remote_code, model_kwargs, pipeline_class, **kwargs)\u001b[0m\n\u001b[0;32m    822\u001b[0m \u001b[39mif\u001b[39;00m \u001b[39misinstance\u001b[39m(model, \u001b[39mstr\u001b[39m) \u001b[39mor\u001b[39;00m framework \u001b[39mis\u001b[39;00m \u001b[39mNone\u001b[39;00m:\n\u001b[0;32m    823\u001b[0m     model_classes \u001b[39m=\u001b[39m {\u001b[39m\"\u001b[39m\u001b[39mtf\u001b[39m\u001b[39m\"\u001b[39m: targeted_task[\u001b[39m\"\u001b[39m\u001b[39mtf\u001b[39m\u001b[39m\"\u001b[39m], \u001b[39m\"\u001b[39m\u001b[39mpt\u001b[39m\u001b[39m\"\u001b[39m: targeted_task[\u001b[39m\"\u001b[39m\u001b[39mpt\u001b[39m\u001b[39m\"\u001b[39m]}\n\u001b[1;32m--> 824\u001b[0m     framework, model \u001b[39m=\u001b[39m infer_framework_load_model(\n\u001b[0;32m    825\u001b[0m         model,\n\u001b[0;32m    826\u001b[0m         model_classes\u001b[39m=\u001b[39;49mmodel_classes,\n\u001b[0;32m    827\u001b[0m         config\u001b[39m=\u001b[39;49mconfig,\n\u001b[0;32m    828\u001b[0m         framework\u001b[39m=\u001b[39;49mframework,\n\u001b[0;32m    829\u001b[0m         task\u001b[39m=\u001b[39;49mtask,\n\u001b[0;32m    830\u001b[0m         \u001b[39m*\u001b[39;49m\u001b[39m*\u001b[39;49mhub_kwargs,\n\u001b[0;32m    831\u001b[0m         \u001b[39m*\u001b[39;49m\u001b[39m*\u001b[39;49mmodel_kwargs,\n\u001b[0;32m    832\u001b[0m     )\n\u001b[0;32m    834\u001b[0m model_config \u001b[39m=\u001b[39m model\u001b[39m.\u001b[39mconfig\n\u001b[0;32m    835\u001b[0m hub_kwargs[\u001b[39m\"\u001b[39m\u001b[39m_commit_hash\u001b[39m\u001b[39m\"\u001b[39m] \u001b[39m=\u001b[39m model\u001b[39m.\u001b[39mconfig\u001b[39m.\u001b[39m_commit_hash\n",
      "File \u001b[1;32md:\\Computer\\Anaconda\\envs\\transformer\\lib\\site-packages\\transformers\\pipelines\\base.py:282\u001b[0m, in \u001b[0;36minfer_framework_load_model\u001b[1;34m(model, config, model_classes, task, framework, **model_kwargs)\u001b[0m\n\u001b[0;32m    280\u001b[0m         \u001b[39mfor\u001b[39;00m class_name, trace \u001b[39min\u001b[39;00m all_traceback\u001b[39m.\u001b[39mitems():\n\u001b[0;32m    281\u001b[0m             error \u001b[39m+\u001b[39m\u001b[39m=\u001b[39m \u001b[39mf\u001b[39m\u001b[39m\"\u001b[39m\u001b[39mwhile loading with \u001b[39m\u001b[39m{\u001b[39;00mclass_name\u001b[39m}\u001b[39;00m\u001b[39m, an error is thrown:\u001b[39m\u001b[39m\\n\u001b[39;00m\u001b[39m{\u001b[39;00mtrace\u001b[39m}\u001b[39;00m\u001b[39m\\n\u001b[39;00m\u001b[39m\"\u001b[39m\n\u001b[1;32m--> 282\u001b[0m         \u001b[39mraise\u001b[39;00m \u001b[39mValueError\u001b[39;00m(\n\u001b[0;32m    283\u001b[0m             \u001b[39mf\u001b[39m\u001b[39m\"\u001b[39m\u001b[39mCould not load model \u001b[39m\u001b[39m{\u001b[39;00mmodel\u001b[39m}\u001b[39;00m\u001b[39m with any of the following classes: \u001b[39m\u001b[39m{\u001b[39;00mclass_tuple\u001b[39m}\u001b[39;00m\u001b[39m. See the original errors:\u001b[39m\u001b[39m\\n\u001b[39;00m\u001b[39m\\n\u001b[39;00m\u001b[39m{\u001b[39;00merror\u001b[39m}\u001b[39;00m\u001b[39m\\n\u001b[39;00m\u001b[39m\"\u001b[39m\n\u001b[0;32m    284\u001b[0m         )\n\u001b[0;32m    286\u001b[0m \u001b[39mif\u001b[39;00m framework \u001b[39mis\u001b[39;00m \u001b[39mNone\u001b[39;00m:\n\u001b[0;32m    287\u001b[0m     framework \u001b[39m=\u001b[39m infer_framework(model\u001b[39m.\u001b[39m\u001b[39m__class__\u001b[39m)\n",
      "\u001b[1;31mValueError\u001b[0m: Could not load model distilbert-base-uncased-finetuned-sst-2-english with any of the following classes: (<class 'transformers.models.auto.modeling_auto.AutoModelForSequenceClassification'>, <class 'transformers.models.distilbert.modeling_distilbert.DistilBertForSequenceClassification'>). See the original errors:\n\nwhile loading with AutoModelForSequenceClassification, an error is thrown:\nTraceback (most recent call last):\n  File \"d:\\Computer\\Anaconda\\envs\\transformer\\lib\\site-packages\\urllib3\\response.py\", line 710, in _error_catcher\n    yield\n  File \"d:\\Computer\\Anaconda\\envs\\transformer\\lib\\site-packages\\urllib3\\response.py\", line 814, in _raw_read\n    data = self._fp_read(amt) if not fp_closed else b\"\"\n  File \"d:\\Computer\\Anaconda\\envs\\transformer\\lib\\site-packages\\urllib3\\response.py\", line 799, in _fp_read\n    return self._fp.read(amt) if amt is not None else self._fp.read()\n  File \"d:\\Computer\\Anaconda\\envs\\transformer\\lib\\http\\client.py\", line 459, in read\n    n = self.readinto(b)\n  File \"d:\\Computer\\Anaconda\\envs\\transformer\\lib\\http\\client.py\", line 503, in readinto\n    n = self.fp.readinto(b)\n  File \"d:\\Computer\\Anaconda\\envs\\transformer\\lib\\socket.py\", line 669, in readinto\n    return self._sock.recv_into(b)\n  File \"d:\\Computer\\Anaconda\\envs\\transformer\\lib\\ssl.py\", line 1241, in recv_into\n    return self.read(nbytes, buffer)\n  File \"d:\\Computer\\Anaconda\\envs\\transformer\\lib\\ssl.py\", line 1099, in read\n    return self._sslobj.read(len, buffer)\nsocket.timeout: The read operation timed out\n\nThe above exception was the direct cause of the following exception:\n\nTraceback (most recent call last):\n  File \"d:\\Computer\\Anaconda\\envs\\transformer\\lib\\site-packages\\requests\\models.py\", line 816, in generate\n    yield from self.raw.stream(chunk_size, decode_content=True)\n  File \"d:\\Computer\\Anaconda\\envs\\transformer\\lib\\site-packages\\urllib3\\response.py\", line 940, in stream\n    data = self.read(amt=amt, decode_content=decode_content)\n  File \"d:\\Computer\\Anaconda\\envs\\transformer\\lib\\site-packages\\urllib3\\response.py\", line 879, in read\n    data = self._raw_read(amt)\n  File \"d:\\Computer\\Anaconda\\envs\\transformer\\lib\\site-packages\\urllib3\\response.py\", line 835, in _raw_read\n    raise IncompleteRead(self._fp_bytes_read, self.length_remaining)\n  File \"d:\\Computer\\Anaconda\\envs\\transformer\\lib\\contextlib.py\", line 131, in __exit__\n    self.gen.throw(type, value, traceback)\n  File \"d:\\Computer\\Anaconda\\envs\\transformer\\lib\\site-packages\\urllib3\\response.py\", line 715, in _error_catcher\n    raise ReadTimeoutError(self._pool, None, \"Read timed out.\") from e  # type: ignore[arg-type]\nurllib3.exceptions.ReadTimeoutError: HTTPSConnectionPool(host='cdn-lfs.huggingface.co', port=443): Read timed out.\n\nDuring handling of the above exception, another exception occurred:\n\nTraceback (most recent call last):\n  File \"d:\\Computer\\Anaconda\\envs\\transformer\\lib\\site-packages\\transformers\\pipelines\\base.py\", line 269, in infer_framework_load_model\n    model = model_class.from_pretrained(model, **kwargs)\n  File \"d:\\Computer\\Anaconda\\envs\\transformer\\lib\\site-packages\\transformers\\models\\auto\\auto_factory.py\", line 563, in from_pretrained\n    return model_class.from_pretrained(\n  File \"d:\\Computer\\Anaconda\\envs\\transformer\\lib\\site-packages\\transformers\\modeling_utils.py\", line 2773, in from_pretrained\n    resolved_archive_file = cached_file(pretrained_model_name_or_path, filename, **cached_file_kwargs)\n  File \"d:\\Computer\\Anaconda\\envs\\transformer\\lib\\site-packages\\transformers\\utils\\hub.py\", line 429, in cached_file\n    resolved_file = hf_hub_download(\n  File \"d:\\Computer\\Anaconda\\envs\\transformer\\lib\\site-packages\\huggingface_hub\\utils\\_validators.py\", line 118, in _inner_fn\n    return fn(*args, **kwargs)\n  File \"d:\\Computer\\Anaconda\\envs\\transformer\\lib\\site-packages\\huggingface_hub\\file_download.py\", line 1364, in hf_hub_download\n    http_get(\n  File \"d:\\Computer\\Anaconda\\envs\\transformer\\lib\\site-packages\\huggingface_hub\\file_download.py\", line 541, in http_get\n    for chunk in r.iter_content(chunk_size=10 * 1024 * 1024):\n  File \"d:\\Computer\\Anaconda\\envs\\transformer\\lib\\site-packages\\requests\\models.py\", line 822, in generate\n    raise ConnectionError(e)\nrequests.exceptions.ConnectionError: HTTPSConnectionPool(host='cdn-lfs.huggingface.co', port=443): Read timed out.\n\nwhile loading with DistilBertForSequenceClassification, an error is thrown:\nTraceback (most recent call last):\n  File \"d:\\Computer\\Anaconda\\envs\\transformer\\lib\\site-packages\\urllib3\\response.py\", line 710, in _error_catcher\n    yield\n  File \"d:\\Computer\\Anaconda\\envs\\transformer\\lib\\site-packages\\urllib3\\response.py\", line 814, in _raw_read\n    data = self._fp_read(amt) if not fp_closed else b\"\"\n  File \"d:\\Computer\\Anaconda\\envs\\transformer\\lib\\site-packages\\urllib3\\response.py\", line 799, in _fp_read\n    return self._fp.read(amt) if amt is not None else self._fp.read()\n  File \"d:\\Computer\\Anaconda\\envs\\transformer\\lib\\http\\client.py\", line 459, in read\n    n = self.readinto(b)\n  File \"d:\\Computer\\Anaconda\\envs\\transformer\\lib\\http\\client.py\", line 503, in readinto\n    n = self.fp.readinto(b)\n  File \"d:\\Computer\\Anaconda\\envs\\transformer\\lib\\socket.py\", line 669, in readinto\n    return self._sock.recv_into(b)\n  File \"d:\\Computer\\Anaconda\\envs\\transformer\\lib\\ssl.py\", line 1241, in recv_into\n    return self.read(nbytes, buffer)\n  File \"d:\\Computer\\Anaconda\\envs\\transformer\\lib\\ssl.py\", line 1099, in read\n    return self._sslobj.read(len, buffer)\nsocket.timeout: The read operation timed out\n\nThe above exception was the direct cause of the following exception:\n\nTraceback (most recent call last):\n  File \"d:\\Computer\\Anaconda\\envs\\transformer\\lib\\site-packages\\requests\\models.py\", line 816, in generate\n    yield from self.raw.stream(chunk_size, decode_content=True)\n  File \"d:\\Computer\\Anaconda\\envs\\transformer\\lib\\site-packages\\urllib3\\response.py\", line 940, in stream\n    data = self.read(amt=amt, decode_content=decode_content)\n  File \"d:\\Computer\\Anaconda\\envs\\transformer\\lib\\site-packages\\urllib3\\response.py\", line 879, in read\n    data = self._raw_read(amt)\n  File \"d:\\Computer\\Anaconda\\envs\\transformer\\lib\\site-packages\\urllib3\\response.py\", line 835, in _raw_read\n    raise IncompleteRead(self._fp_bytes_read, self.length_remaining)\n  File \"d:\\Computer\\Anaconda\\envs\\transformer\\lib\\contextlib.py\", line 131, in __exit__\n    self.gen.throw(type, value, traceback)\n  File \"d:\\Computer\\Anaconda\\envs\\transformer\\lib\\site-packages\\urllib3\\response.py\", line 715, in _error_catcher\n    raise ReadTimeoutError(self._pool, None, \"Read timed out.\") from e  # type: ignore[arg-type]\nurllib3.exceptions.ReadTimeoutError: HTTPSConnectionPool(host='cdn-lfs.huggingface.co', port=443): Read timed out.\n\nDuring handling of the above exception, another exception occurred:\n\nTraceback (most recent call last):\n  File \"d:\\Computer\\Anaconda\\envs\\transformer\\lib\\site-packages\\transformers\\pipelines\\base.py\", line 269, in infer_framework_load_model\n    model = model_class.from_pretrained(model, **kwargs)\n  File \"d:\\Computer\\Anaconda\\envs\\transformer\\lib\\site-packages\\transformers\\modeling_utils.py\", line 2773, in from_pretrained\n    resolved_archive_file = cached_file(pretrained_model_name_or_path, filename, **cached_file_kwargs)\n  File \"d:\\Computer\\Anaconda\\envs\\transformer\\lib\\site-packages\\transformers\\utils\\hub.py\", line 429, in cached_file\n    resolved_file = hf_hub_download(\n  File \"d:\\Computer\\Anaconda\\envs\\transformer\\lib\\site-packages\\huggingface_hub\\utils\\_validators.py\", line 118, in _inner_fn\n    return fn(*args, **kwargs)\n  File \"d:\\Computer\\Anaconda\\envs\\transformer\\lib\\site-packages\\huggingface_hub\\file_download.py\", line 1364, in hf_hub_download\n    http_get(\n  File \"d:\\Computer\\Anaconda\\envs\\transformer\\lib\\site-packages\\huggingface_hub\\file_download.py\", line 541, in http_get\n    for chunk in r.iter_content(chunk_size=10 * 1024 * 1024):\n  File \"d:\\Computer\\Anaconda\\envs\\transformer\\lib\\site-packages\\requests\\models.py\", line 822, in generate\n    raise ConnectionError(e)\nrequests.exceptions.ConnectionError: HTTPSConnectionPool(host='cdn-lfs.huggingface.co', port=443): Read timed out.\n\n\n"
     ]
    }
   ],
   "source": [
    "from transformers import pipeline\n",
    "\n",
    "classifier = pipeline(\"sentiment-analysis\")\n",
    "\n",
    "classifier(\n",
    "    [\n",
    "        \"I've been waiting for a HuggingFace course my whole life.\",\n",
    "        \"I hate this so much!\",\n",
    "    ]\n",
    ")"
   ]
  },
  {
   "cell_type": "code",
   "execution_count": 16,
   "metadata": {},
   "outputs": [],
   "source": [
    "from transformers import AutoTokenizer\n",
    "\n",
    "checkpoint = r\"C:\\Users\\Kan\\.cache\\huggingface\\hub\\models--distilbert-base-uncased-finetuned-sst-2-english\\snapshots\\3d65bad49c7ba6f71920504507a8927f4b9db6c0\"\n",
    "tokenizer = AutoTokenizer.from_pretrained(checkpoint)"
   ]
  },
  {
   "cell_type": "code",
   "execution_count": 17,
   "metadata": {},
   "outputs": [
    {
     "name": "stdout",
     "output_type": "stream",
     "text": [
      "{'input_ids': tensor([[  101,  1045,  1005,  2310,  2042,  3403,  2005,  1037, 17662, 12172,\n",
      "          2607,  2026,  2878,  2166,  1012,   102],\n",
      "        [  101,  1045,  5223,  2023,  2061,  2172,   999,   102,     0,     0,\n",
      "             0,     0,     0,     0,     0,     0]]), 'attention_mask': tensor([[1, 1, 1, 1, 1, 1, 1, 1, 1, 1, 1, 1, 1, 1, 1, 1],\n",
      "        [1, 1, 1, 1, 1, 1, 1, 1, 0, 0, 0, 0, 0, 0, 0, 0]])}\n"
     ]
    }
   ],
   "source": [
    "raw_inputs = [\n",
    "    \"I've been waiting for a HuggingFace course my whole life.\",\n",
    "    \"I hate this so much!\",\n",
    "]\n",
    "inputs = tokenizer(raw_inputs, padding=True, truncation=True, return_tensors=\"pt\")\n",
    "print(inputs)"
   ]
  },
  {
   "cell_type": "code",
   "execution_count": 14,
   "metadata": {},
   "outputs": [],
   "source": [
    "from transformers import AutoModel\n",
    "\n",
    "checkpoint = r\"C:\\Users\\Kan\\.cache\\huggingface\\hub\\models--distilbert-base-uncased-finetuned-sst-2-english\\snapshots\\3d65bad49c7ba6f71920504507a8927f4b9db6c0\"\n",
    "model = AutoModel.from_pretrained(checkpoint)"
   ]
  },
  {
   "cell_type": "code",
   "execution_count": 15,
   "metadata": {},
   "outputs": [
    {
     "name": "stdout",
     "output_type": "stream",
     "text": [
      "torch.Size([2, 16, 768])\n"
     ]
    }
   ],
   "source": [
    "outputs = model(**inputs)\n",
    "print(outputs.last_hidden_state.shape)"
   ]
  },
  {
   "cell_type": "code",
   "execution_count": 19,
   "metadata": {},
   "outputs": [],
   "source": [
    "from transformers import AutoModelForSequenceClassification\n",
    "\n",
    "checkpoint = r\"C:\\Users\\Kan\\.cache\\huggingface\\hub\\models--distilbert-base-uncased-finetuned-sst-2-english\\snapshots\\3d65bad49c7ba6f71920504507a8927f4b9db6c0\"\n",
    "model = AutoModelForSequenceClassification.from_pretrained(checkpoint)\n",
    "outputs = model(**inputs)"
   ]
  },
  {
   "cell_type": "code",
   "execution_count": 20,
   "metadata": {},
   "outputs": [
    {
     "name": "stdout",
     "output_type": "stream",
     "text": [
      "torch.Size([2, 2])\n"
     ]
    }
   ],
   "source": [
    "print(outputs.logits.shape)"
   ]
  },
  {
   "cell_type": "code",
   "execution_count": 21,
   "metadata": {},
   "outputs": [
    {
     "name": "stdout",
     "output_type": "stream",
     "text": [
      "tensor([[-1.5607,  1.6123],\n",
      "        [ 4.1692, -3.3464]], grad_fn=<AddmmBackward0>)\n"
     ]
    }
   ],
   "source": [
    "print(outputs.logits)\n"
   ]
  },
  {
   "cell_type": "code",
   "execution_count": 22,
   "metadata": {},
   "outputs": [
    {
     "name": "stdout",
     "output_type": "stream",
     "text": [
      "tensor([[4.0195e-02, 9.5980e-01],\n",
      "        [9.9946e-01, 5.4418e-04]], grad_fn=<SoftmaxBackward0>)\n"
     ]
    }
   ],
   "source": [
    "import torch\n",
    "\n",
    "predictions = torch.nn.functional.softmax(outputs.logits, dim=-1)\n",
    "print(predictions)"
   ]
  },
  {
   "cell_type": "code",
   "execution_count": 23,
   "metadata": {},
   "outputs": [
    {
     "data": {
      "text/plain": [
       "{0: 'NEGATIVE', 1: 'POSITIVE'}"
      ]
     },
     "execution_count": 23,
     "metadata": {},
     "output_type": "execute_result"
    }
   ],
   "source": [
    "model.config.id2label"
   ]
  }
 ],
 "metadata": {
  "kernelspec": {
   "display_name": "transformer",
   "language": "python",
   "name": "python3"
  },
  "language_info": {
   "codemirror_mode": {
    "name": "ipython",
    "version": 3
   },
   "file_extension": ".py",
   "mimetype": "text/x-python",
   "name": "python",
   "nbconvert_exporter": "python",
   "pygments_lexer": "ipython3",
   "version": "3.8.17"
  },
  "orig_nbformat": 4
 },
 "nbformat": 4,
 "nbformat_minor": 2
}
