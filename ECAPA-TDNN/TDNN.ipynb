{
 "cells": [
  {
   "cell_type": "code",
   "execution_count": 2,
   "metadata": {
    "collapsed": true
   },
   "outputs": [
    {
     "data": {
      "text/plain": "['id10003', 'id10003/na8-QEFmj44/00003.wav']"
     },
     "execution_count": 2,
     "metadata": {},
     "output_type": "execute_result"
    }
   ],
   "source": [
    "file = []\n",
    "line = 'id10003 id10003/na8-QEFmj44/00003.wav'\n",
    "line.split()\n",
    "#file.append(line.split()[1])\n",
    "#file.append(line.split()[2])  # na8-QEFmj44\n",
    "#print(file)"
   ]
  },
  {
   "cell_type": "code",
   "execution_count": 7,
   "outputs": [
    {
     "name": "stdout",
     "output_type": "stream",
     "text": [
      "tensor([[1., 1., 1.]])\n",
      "tensor([[0.7138, 0.0579, 0.4329]])\n",
      "tensor([[1.2047]])\n"
     ]
    }
   ],
   "source": [
    "import torch\n",
    "embedding1 = torch.ones(1, 3)\n",
    "embedding2 = torch.rand(1, 3)\n",
    "embedding3 = torch.matmul(embedding1, embedding2.T)\n",
    "print(embedding1)\n",
    "print(embedding2)\n",
    "print(embedding3)"
   ],
   "metadata": {
    "collapsed": false
   }
  },
  {
   "cell_type": "code",
   "execution_count": null,
   "outputs": [],
   "source": [],
   "metadata": {
    "collapsed": false
   }
  }
 ],
 "metadata": {
  "kernelspec": {
   "display_name": "Python 3",
   "language": "python",
   "name": "python3"
  },
  "language_info": {
   "codemirror_mode": {
    "name": "ipython",
    "version": 2
   },
   "file_extension": ".py",
   "mimetype": "text/x-python",
   "name": "python",
   "nbconvert_exporter": "python",
   "pygments_lexer": "ipython2",
   "version": "2.7.6"
  }
 },
 "nbformat": 4,
 "nbformat_minor": 0
}
